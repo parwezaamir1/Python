{
 "cells": [
  {
   "cell_type": "markdown",
   "id": "72efdc08",
   "metadata": {},
   "source": [
    "# Create class Atm and some of attributes and methods\n"
   ]
  },
  {
   "cell_type": "code",
   "execution_count": 1,
   "id": "1c4fa5b5",
   "metadata": {},
   "outputs": [],
   "source": [
    "class Atm:\n",
    "\n",
    "    def __init__(self):\n",
    "\n",
    "        self.balance = 0\n",
    "        self.pin = \"\"\n",
    "\n",
    "        self.menu()\n",
    "\n",
    "    def menu(self):\n",
    "        user_input = input(\"\"\"\n",
    "                    Hello, how would you like to proceed?\n",
    "                    1. Enter 1 to create pin\n",
    "                    2. Enter 2 to deposit\n",
    "                    3. Enter 3 to withdraw\n",
    "                    4. Enter 4 to check balance\n",
    "                    5. Enter 5 to exit\n",
    "\"\"\")    \n",
    "        if user_input == \"1\":\n",
    "            #print(\"create pin\")\n",
    "            self.create_pin()\n",
    "        elif user_input == \"2\":\n",
    "            #print(\"Deposit\")\n",
    "            self.deposit()\n",
    "        elif user_input == \"3\":\n",
    "            #print(\"Withdraw\")\n",
    "            self.withdraw()\n",
    "        elif user_input == \"4\":\n",
    "            #print(\"Balance\")\n",
    "            self.check_balance()\n",
    "        else:\n",
    "            print(\"Bye\")         \n",
    "\n",
    "\n",
    "    def create_pin(self):\n",
    "        self.pin = input(\"Enter your pin\")\n",
    "        print(\"Pin set successfully\")\n",
    "\n",
    "    def deposit(self):\n",
    "        temp = input(\"Enter your pin\")\n",
    "        if temp == self.pin:\n",
    "            amount = int(input(\"Enter the amount\"))\n",
    "            self.balance = self.balance + amount\n",
    "            print(\"Deposit successful\")\n",
    "        else:\n",
    "            print(\"Invalid pin\")\n",
    "\n",
    "    def withdraw(self):\n",
    "        temp = input(\"Enter you pin\")\n",
    "        if temp == self.pin:\n",
    "            amount = int(input(\"Enter your amount\"))\n",
    "            if amount < self.balance:\n",
    "                self.balance -= amount\n",
    "                print(\"Withdrawn successful\")\n",
    "            else:\n",
    "                print(\"Insufficient funds\")\n",
    "        else:\n",
    "            print(\"Invalid pin\")\n",
    "    \n",
    "    def check_balance(self):\n",
    "        temp = input(\"Enter your pin\")\n",
    "        if temp == self.pin:\n",
    "            print(self.balance)\n",
    "        else:\n",
    "            print(\"Invalid pin\")"
   ]
  },
  {
   "cell_type": "code",
   "execution_count": 4,
   "id": "b6b15693",
   "metadata": {},
   "outputs": [
    {
     "name": "stdout",
     "output_type": "stream",
     "text": [
      "\n",
      "                    Hello, how would you like to proceed?\n",
      "                    1. Enter 1 to create pin\n",
      "                    2. Enter 2 to deposit\n",
      "                    3. Enter 3 to withdraw\n",
      "                    4. Enter 4 to check balance\n",
      "                    5. Enter 5 to exit\n",
      "1\n",
      "Enter your pin12345\n",
      "Pin set successfully\n",
      "<__main__.Atm object at 0x000002476CF9CD90>\n"
     ]
    }
   ],
   "source": [
    "sbi = Atm()\n",
    "print(sbi)"
   ]
  },
  {
   "cell_type": "code",
   "execution_count": 6,
   "id": "969c63dd",
   "metadata": {},
   "outputs": [
    {
     "name": "stdout",
     "output_type": "stream",
     "text": [
      "Enter your pin12345\n",
      "Enter the amount50000\n",
      "Deposit successful\n"
     ]
    }
   ],
   "source": [
    "sbi.deposit()"
   ]
  },
  {
   "cell_type": "code",
   "execution_count": 7,
   "id": "fb21e6c0",
   "metadata": {},
   "outputs": [
    {
     "name": "stdout",
     "output_type": "stream",
     "text": [
      "Enter you pin12345\n",
      "Enter your amount25000\n",
      "Withdrawn successful\n"
     ]
    }
   ],
   "source": [
    "sbi.withdraw()"
   ]
  },
  {
   "cell_type": "code",
   "execution_count": 9,
   "id": "dd88d18b",
   "metadata": {},
   "outputs": [
    {
     "name": "stdout",
     "output_type": "stream",
     "text": [
      "Enter your pin12345\n",
      "25000\n"
     ]
    }
   ],
   "source": [
    "sbi.check_balance()"
   ]
  },
  {
   "cell_type": "code",
   "execution_count": 10,
   "id": "9ad7b336",
   "metadata": {},
   "outputs": [
    {
     "data": {
      "text/plain": [
       "25000"
      ]
     },
     "execution_count": 10,
     "metadata": {},
     "output_type": "execute_result"
    }
   ],
   "source": [
    "sbi.balance"
   ]
  },
  {
   "cell_type": "code",
   "execution_count": null,
   "id": "6e4ab780",
   "metadata": {},
   "outputs": [],
   "source": []
  }
 ],
 "metadata": {
  "kernelspec": {
   "display_name": "Python 3 (ipykernel)",
   "language": "python",
   "name": "python3"
  },
  "language_info": {
   "codemirror_mode": {
    "name": "ipython",
    "version": 3
   },
   "file_extension": ".py",
   "mimetype": "text/x-python",
   "name": "python",
   "nbconvert_exporter": "python",
   "pygments_lexer": "ipython3",
   "version": "3.11.4"
  }
 },
 "nbformat": 4,
 "nbformat_minor": 5
}
