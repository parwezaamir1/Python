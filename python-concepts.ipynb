{
 "cells": [
  {
   "cell_type": "markdown",
   "id": "51e12339-f515-465e-b931-b68bcaed34c4",
   "metadata": {},
   "source": [
    "# Print Function"
   ]
  },
  {
   "cell_type": "code",
   "execution_count": 1,
   "id": "ca865658-207c-4aed-9764-d9d9a0a5e731",
   "metadata": {},
   "outputs": [
    {
     "name": "stdout",
     "output_type": "stream",
     "text": [
      "Hello World\n"
     ]
    }
   ],
   "source": [
    "print(\"Hello World\")"
   ]
  },
  {
   "cell_type": "code",
   "execution_count": 2,
   "id": "8f540854-da02-4d5b-9300-d258baedef93",
   "metadata": {},
   "outputs": [
    {
     "name": "stdout",
     "output_type": "stream",
     "text": [
      "6\n"
     ]
    }
   ],
   "source": [
    "print(6)"
   ]
  },
  {
   "cell_type": "code",
   "execution_count": 2,
   "id": "90b1fcd5-930a-4709-ba9e-5bcf4c138488",
   "metadata": {},
   "outputs": [
    {
     "name": "stdout",
     "output_type": "stream",
     "text": [
      "5.6\n"
     ]
    }
   ],
   "source": [
    "print(5.6)"
   ]
  },
  {
   "cell_type": "code",
   "execution_count": 3,
   "id": "9046dc79-bb50-404a-98b1-202b3250f01f",
   "metadata": {},
   "outputs": [
    {
     "name": "stdout",
     "output_type": "stream",
     "text": [
      "False\n"
     ]
    }
   ],
   "source": [
    "print(False)"
   ]
  },
  {
   "cell_type": "code",
   "execution_count": 1,
   "id": "2358b7a3-f02e-40fd-be40-e8d3447cfb72",
   "metadata": {},
   "outputs": [
    {
     "name": "stdout",
     "output_type": "stream",
     "text": [
      "India Pakistan Nepal\n"
     ]
    }
   ],
   "source": [
    "print(\"India\", \"Pakistan\", \"Nepal\")"
   ]
  },
  {
   "cell_type": "code",
   "execution_count": 4,
   "id": "73310830-7c62-4b44-a987-f85572750406",
   "metadata": {},
   "outputs": [
    {
     "name": "stdout",
     "output_type": "stream",
     "text": [
      "India 5 Pak True\n"
     ]
    }
   ],
   "source": [
    "print(\"India\", 5, \"Pak\", True)"
   ]
  },
  {
   "cell_type": "code",
   "execution_count": 5,
   "id": "c870ed95-16b4-41b3-a56e-0801bb5cfbf2",
   "metadata": {},
   "outputs": [
    {
     "name": "stdout",
     "output_type": "stream",
     "text": [
      "India/Pakistan/Nepal\n"
     ]
    }
   ],
   "source": [
    "print(\"India\", \"Pakistan\", \"Nepal\", sep='/')"
   ]
  },
  {
   "cell_type": "code",
   "execution_count": 6,
   "id": "1ac86de2-f050-4a68-a709-2059113e198a",
   "metadata": {},
   "outputs": [
    {
     "name": "stdout",
     "output_type": "stream",
     "text": [
      "India-Pakistan-Nepal\n"
     ]
    }
   ],
   "source": [
    "print(\"India\", \"Pakistan\", \"Nepal\", sep='-')"
   ]
  },
  {
   "cell_type": "code",
   "execution_count": 8,
   "id": "dcf2622c-f0f1-4a1b-8fd5-5ef2cf928bd2",
   "metadata": {},
   "outputs": [
    {
     "name": "stdout",
     "output_type": "stream",
     "text": [
      "Helllo\n",
      "Helllo\n"
     ]
    }
   ],
   "source": [
    "print(\"Helllo\")\n",
    "print(\"Helllo\")"
   ]
  },
  {
   "cell_type": "code",
   "execution_count": 9,
   "id": "8db450ec-5369-4379-ba5a-10c7280c0ad0",
   "metadata": {},
   "outputs": [
    {
     "name": "stdout",
     "output_type": "stream",
     "text": [
      "Hello Hello\n"
     ]
    }
   ],
   "source": [
    "print(\"Hello\", end=' ')\n",
    "print(\"Hello\")"
   ]
  },
  {
   "cell_type": "markdown",
   "id": "d7bad7f8-a206-4a12-9967-d16b7d02321c",
   "metadata": {},
   "source": [
    "# Data Types"
   ]
  },
  {
   "cell_type": "markdown",
   "id": "6b537b4e-5845-4213-bf7d-6f6ef983b43a",
   "metadata": {},
   "source": [
    "### Python Supports 3 categories of data types\n",
    "    1. Basic Types - (Integer, float, complex, boolean and string)\n",
    "    2. Container types - (List, Tuples, Sets and Dictionary)\n",
    "    3. User-Defined-Types - Class"
   ]
  },
  {
   "cell_type": "code",
   "execution_count": 11,
   "id": "2cbea2f2-5275-474b-8b49-6eb2d052ed84",
   "metadata": {},
   "outputs": [
    {
     "name": "stdout",
     "output_type": "stream",
     "text": [
      "4\n",
      "30000000000000000000000000000000000000000000000000000000000000000000000000000\n"
     ]
    }
   ],
   "source": [
    "# Integer\n",
    "print(4)\n",
    "print(30000000000000000000000000000000000000000000000000000000000000000000000000000)"
   ]
  },
  {
   "cell_type": "code",
   "execution_count": 12,
   "id": "af381875-23ce-43ce-8564-6d076a92abba",
   "metadata": {},
   "outputs": [
    {
     "name": "stdout",
     "output_type": "stream",
     "text": [
      "4.5\n",
      "1.7e+308\n"
     ]
    }
   ],
   "source": [
    "# float\n",
    "print(4.5)\n",
    "print(1.7e308)"
   ]
  },
  {
   "cell_type": "code",
   "execution_count": 13,
   "id": "45b4ddaf-c26c-4d40-9159-3958e2712aad",
   "metadata": {},
   "outputs": [
    {
     "name": "stdout",
     "output_type": "stream",
     "text": [
      "True\n",
      "False\n"
     ]
    }
   ],
   "source": [
    "# boolean\n",
    "print(True)\n",
    "print(False)"
   ]
  },
  {
   "cell_type": "code",
   "execution_count": 14,
   "id": "94303ff2-b690-4992-96a3-e7904d53a761",
   "metadata": {},
   "outputs": [
    {
     "name": "stdout",
     "output_type": "stream",
     "text": [
      "(4+5j)\n"
     ]
    }
   ],
   "source": [
    "# complex\n",
    "print(4+5j)"
   ]
  },
  {
   "cell_type": "code",
   "execution_count": 15,
   "id": "b3cd7eba-3561-4862-a23a-99fab7e27637",
   "metadata": {},
   "outputs": [
    {
     "name": "stdout",
     "output_type": "stream",
     "text": [
      "Patna\n",
      "Patna\n",
      "Patna\n"
     ]
    }
   ],
   "source": [
    "# string\n",
    "print('Patna')\n",
    "print(\"Patna\")\n",
    "print(\"\"\"Patna\"\"\")"
   ]
  },
  {
   "cell_type": "code",
   "execution_count": 16,
   "id": "0de9f2eb-1a24-42f5-95b0-9813719b22cb",
   "metadata": {},
   "outputs": [
    {
     "name": "stdout",
     "output_type": "stream",
     "text": [
      "[1, 2, 3, 4, 5]\n"
     ]
    }
   ],
   "source": [
    "# List\n",
    "print([1,2,3,4,5])"
   ]
  },
  {
   "cell_type": "code",
   "execution_count": 17,
   "id": "f9c8325a-c4a2-4142-99cb-48d8c5b122ec",
   "metadata": {},
   "outputs": [
    {
     "name": "stdout",
     "output_type": "stream",
     "text": [
      "(1, 2, 3, 4, 5, 6)\n"
     ]
    }
   ],
   "source": [
    "# tuple\n",
    "print((1,2,3,4,5,6))"
   ]
  },
  {
   "cell_type": "code",
   "execution_count": 18,
   "id": "bffd59f5-5c4f-4a11-b114-f18b051a5cf3",
   "metadata": {},
   "outputs": [
    {
     "name": "stdout",
     "output_type": "stream",
     "text": [
      "{1, 2, 3, 4, 5, 6, 7}\n"
     ]
    }
   ],
   "source": [
    "# Sets\n",
    "print({1,2,3,4,5,6,7})"
   ]
  },
  {
   "cell_type": "code",
   "execution_count": 20,
   "id": "72188ef8-bc6e-41af-8707-066ec78dd53d",
   "metadata": {},
   "outputs": [
    {
     "name": "stdout",
     "output_type": "stream",
     "text": [
      "{'a': 'b', 'c': 'd', 'e': 5}\n"
     ]
    }
   ],
   "source": [
    "# Dictionary\n",
    "print({\"a\": \"b\", \"c\": \"d\", \"e\": 5})"
   ]
  },
  {
   "cell_type": "markdown",
   "id": "54f5f152-9444-4542-9df4-c7dd9ce04f6c",
   "metadata": {},
   "source": [
    "# Commments\n",
    "A piece of code compiler not execute, to enhance readablity"
   ]
  },
  {
   "cell_type": "code",
   "execution_count": 21,
   "id": "e1304422-380e-42ee-8d18-0a7cba342026",
   "metadata": {},
   "outputs": [],
   "source": [
    "# comments"
   ]
  },
  {
   "cell_type": "code",
   "execution_count": 22,
   "id": "883ab02d-7233-4f8a-8835-298dc9f5cccc",
   "metadata": {},
   "outputs": [],
   "source": [
    "# this is a comments"
   ]
  },
  {
   "cell_type": "code",
   "execution_count": 23,
   "id": "f0643d50-e4c6-4937-94fb-443dfe9b9b6d",
   "metadata": {},
   "outputs": [
    {
     "data": {
      "text/plain": [
       "'\\nFor multi-line comments\\n'"
      ]
     },
     "execution_count": 23,
     "metadata": {},
     "output_type": "execute_result"
    }
   ],
   "source": [
    "\"\"\"\n",
    "For multi-line comments\n",
    "\"\"\""
   ]
  },
  {
   "cell_type": "code",
   "execution_count": 25,
   "id": "410c4cd3-07dd-4176-9139-e9f2c7ac5392",
   "metadata": {},
   "outputs": [],
   "source": [
    "# Python dosen't support multi-line cmments, but some editor provides this for python\n",
    "# We can do multi-line comments using \"\"\"\" \"\"\"\" or ''' '''"
   ]
  },
  {
   "cell_type": "markdown",
   "id": "df85fb33-8df0-4b2d-a371-10975b4989a8",
   "metadata": {},
   "source": [
    "# Variable\n",
    " Containers for future use\n",
    " - Name given to a memory location"
   ]
  },
  {
   "cell_type": "code",
   "execution_count": 26,
   "id": "7a4b5a46-ef06-4ebf-bc50-46eec2d067af",
   "metadata": {},
   "outputs": [],
   "source": [
    "name = \"Nitish\""
   ]
  },
  {
   "cell_type": "code",
   "execution_count": 27,
   "id": "731a525a-f530-4cd8-ada4-191687bd9f3c",
   "metadata": {},
   "outputs": [
    {
     "name": "stdout",
     "output_type": "stream",
     "text": [
      "Nitish\n"
     ]
    }
   ],
   "source": [
    "print(name)"
   ]
  },
  {
   "cell_type": "code",
   "execution_count": 28,
   "id": "558a6328-5849-4e20-a052-14136868548f",
   "metadata": {},
   "outputs": [],
   "source": [
    "name = 'Hello World'"
   ]
  },
  {
   "cell_type": "code",
   "execution_count": 29,
   "id": "2f0b5f38-f765-43ae-8c49-a1b524628f35",
   "metadata": {},
   "outputs": [
    {
     "name": "stdout",
     "output_type": "stream",
     "text": [
      "Hello World\n"
     ]
    }
   ],
   "source": [
    "print(name)"
   ]
  },
  {
   "cell_type": "code",
   "execution_count": 30,
   "id": "83307aca-3ae5-4650-beb5-fd305df00147",
   "metadata": {},
   "outputs": [],
   "source": [
    "# no variable decleration"
   ]
  },
  {
   "cell_type": "code",
   "execution_count": 38,
   "id": "3c4b5fd8-f9a5-4baa-81cb-c26bbc2f11a6",
   "metadata": {},
   "outputs": [],
   "source": [
    "# In Python, there is no need to declare variable types first called Dynamic typing\n",
    "# In C, Java etc, We need to declare the types of variable called Static typing"
   ]
  },
  {
   "cell_type": "code",
   "execution_count": 32,
   "id": "007e6ea4-f621-4482-b76d-1a9c186bb013",
   "metadata": {},
   "outputs": [],
   "source": [
    "# In C\n",
    "# int c = 5\n",
    "\n",
    "# In Java\n",
    "# String abc = \"AAmir\""
   ]
  },
  {
   "cell_type": "code",
   "execution_count": 33,
   "id": "9fff7970-6e71-4f20-ac7e-547ba608dd3e",
   "metadata": {},
   "outputs": [
    {
     "name": "stdout",
     "output_type": "stream",
     "text": [
      "Hello World\n"
     ]
    }
   ],
   "source": [
    "print(name)"
   ]
  },
  {
   "cell_type": "code",
   "execution_count": 34,
   "id": "a14d3295-d7e8-4a21-8a9c-69f002b07dc5",
   "metadata": {},
   "outputs": [],
   "source": [
    "name = 5"
   ]
  },
  {
   "cell_type": "code",
   "execution_count": 35,
   "id": "a6ad588a-415c-400f-b423-b291b506f294",
   "metadata": {},
   "outputs": [
    {
     "name": "stdout",
     "output_type": "stream",
     "text": [
      "5\n"
     ]
    }
   ],
   "source": [
    "print(name)"
   ]
  },
  {
   "cell_type": "code",
   "execution_count": 37,
   "id": "8f889949-6ded-463c-8fdb-c63e446f55fe",
   "metadata": {},
   "outputs": [
    {
     "name": "stdout",
     "output_type": "stream",
     "text": [
      "True\n"
     ]
    }
   ],
   "source": [
    "name = True\n",
    "print(name)"
   ]
  },
  {
   "cell_type": "code",
   "execution_count": 40,
   "id": "c4c15a58-8b53-4479-8a21-db1060de513a",
   "metadata": {},
   "outputs": [],
   "source": [
    "# in Python, we can change the data types of variable anytime called dynamic binding\n",
    "# Java, C, C++ follows static binding. we cannot change the variable types once it assigned\n"
   ]
  },
  {
   "cell_type": "code",
   "execution_count": 41,
   "id": "72b54e16-39f1-474b-a19b-d046c8c1619f",
   "metadata": {},
   "outputs": [
    {
     "name": "stdout",
     "output_type": "stream",
     "text": [
      "5\n",
      "6\n",
      "10\n"
     ]
    }
   ],
   "source": [
    "# special syntax\n",
    "a = 5; b=6; c = 10\n",
    "print(a)\n",
    "print(b)\n",
    "print(c)"
   ]
  },
  {
   "cell_type": "code",
   "execution_count": 42,
   "id": "8ff5f6ec-007f-4a55-a93e-ff177f5f5ed6",
   "metadata": {},
   "outputs": [
    {
     "name": "stdout",
     "output_type": "stream",
     "text": [
      "5\n",
      "6\n",
      "10\n"
     ]
    }
   ],
   "source": [
    "a, b, c = 5, 6, 10\n",
    "print(a)\n",
    "print(b)\n",
    "print(c)"
   ]
  },
  {
   "cell_type": "markdown",
   "id": "a0bf3454-cffa-43a1-ac37-6ff2d19b6e68",
   "metadata": {},
   "source": [
    "# Keywords\n",
    "\n",
    "    - Python is a case sensitive programming language\n",
    "\n",
    "    In Programming, a keyword is a word that is reserved by a program because the word has a special meaning. Keyword can be command or parameters. Every programming language has a set of keywords."
   ]
  },
  {
   "cell_type": "code",
   "execution_count": 43,
   "id": "ee98ccc7-1856-4efe-a6c0-2cb094298faa",
   "metadata": {},
   "outputs": [
    {
     "name": "stdout",
     "output_type": "stream",
     "text": [
      "['False', 'None', 'True', 'and', 'as', 'assert', 'async', 'await', 'break', 'class', 'continue', 'def', 'del', 'elif', 'else', 'except', 'finally', 'for', 'from', 'global', 'if', 'import', 'in', 'is', 'lambda', 'nonlocal', 'not', 'or', 'pass', 'raise', 'return', 'try', 'while', 'with', 'yield']\n"
     ]
    }
   ],
   "source": [
    "# Python has 33 Keywords\n",
    "import keyword\n",
    "print(keyword.kwlist)"
   ]
  },
  {
   "cell_type": "markdown",
   "id": "9c13f13a-ebc5-461e-b9f1-477fac4c30e1",
   "metadata": {},
   "source": [
    "# Identifiers\n",
    "\n",
    "    A python identifier is a name used to identify variable, function, class, module or other objects\n",
    "\n",
    "    Rules for setting identifiers\n",
    "        can only start with an alphabet or _ Followed by 0 or more letter, _ and digits\n",
    "        keywords can not used as a identifier\n",
    "        "
   ]
  },
  {
   "cell_type": "code",
   "execution_count": 44,
   "id": "cf92f831-187c-4aaa-8577-ad84d5606c89",
   "metadata": {},
   "outputs": [
    {
     "name": "stdout",
     "output_type": "stream",
     "text": [
      "ABVCVJK\n"
     ]
    }
   ],
   "source": [
    "__ = \"ABVCVJK\"\n",
    "print(__)"
   ]
  },
  {
   "cell_type": "markdown",
   "id": "d5ad07c5-bb8d-4549-822c-f3c04e2bc2db",
   "metadata": {},
   "source": [
    "# Taking user-input and type converrsion"
   ]
  },
  {
   "cell_type": "code",
   "execution_count": 46,
   "id": "c46c7189-38b8-4563-bd54-69f6d66a6e18",
   "metadata": {},
   "outputs": [
    {
     "name": "stdout",
     "output_type": "stream",
     "text": [
      " 56\n"
     ]
    },
    {
     "data": {
      "text/plain": [
       "'56'"
      ]
     },
     "execution_count": 46,
     "metadata": {},
     "output_type": "execute_result"
    }
   ],
   "source": [
    "input()"
   ]
  },
  {
   "cell_type": "code",
   "execution_count": 47,
   "id": "9c7eecd5-4667-41c7-b163-b8ea5aabdafa",
   "metadata": {},
   "outputs": [
    {
     "name": "stdout",
     "output_type": "stream",
     "text": [
      "Type your name Aamir\n"
     ]
    },
    {
     "data": {
      "text/plain": [
       "'Aamir'"
      ]
     },
     "execution_count": 47,
     "metadata": {},
     "output_type": "execute_result"
    }
   ],
   "source": [
    "input('Type your name')"
   ]
  },
  {
   "cell_type": "code",
   "execution_count": 53,
   "id": "725f63f3-0f48-4beb-8179-27ad8e7cb464",
   "metadata": {},
   "outputs": [
    {
     "name": "stdout",
     "output_type": "stream",
     "text": [
      "Enter the first number:  56\n",
      "Enter the second number:  44\n"
     ]
    }
   ],
   "source": [
    "first_num = int(input(\"Enter the first number: \"))\n",
    "second_number = int(input(\"Enter the second number: \"))"
   ]
  },
  {
   "cell_type": "code",
   "execution_count": 54,
   "id": "7c03145a-a1e4-4c3d-a5c3-5a4397baf08a",
   "metadata": {},
   "outputs": [
    {
     "name": "stdout",
     "output_type": "stream",
     "text": [
      "100\n"
     ]
    }
   ],
   "source": [
    "result = first_num + second_number\n",
    "print(result)"
   ]
  },
  {
   "cell_type": "code",
   "execution_count": 55,
   "id": "05f95cf7-690a-418a-a48f-b97a4c88ce0a",
   "metadata": {},
   "outputs": [
    {
     "data": {
      "text/plain": [
       "int"
      ]
     },
     "execution_count": 55,
     "metadata": {},
     "output_type": "execute_result"
    }
   ],
   "source": [
    "type(4)"
   ]
  },
  {
   "cell_type": "code",
   "execution_count": 56,
   "id": "d35c369c-7d12-483a-85ec-0550d681507e",
   "metadata": {},
   "outputs": [
    {
     "data": {
      "text/plain": [
       "int"
      ]
     },
     "execution_count": 56,
     "metadata": {},
     "output_type": "execute_result"
    }
   ],
   "source": [
    "type(first_num)"
   ]
  },
  {
   "cell_type": "code",
   "execution_count": 57,
   "id": "4a303b55-ba3b-4710-bf7c-4da3996461fa",
   "metadata": {},
   "outputs": [
    {
     "data": {
      "text/plain": [
       "str"
      ]
     },
     "execution_count": 57,
     "metadata": {},
     "output_type": "execute_result"
    }
   ],
   "source": [
    "a = 'kshbjhhj'\n",
    "type(a)"
   ]
  },
  {
   "cell_type": "code",
   "execution_count": 58,
   "id": "2b2a49fa-a121-42a2-adf8-5927647593cb",
   "metadata": {},
   "outputs": [],
   "source": [
    "# implicit\n",
    "# explicit"
   ]
  },
  {
   "cell_type": "code",
   "execution_count": 59,
   "id": "7b9bb02b-4db3-494a-9d78-1d6c3e71bb1f",
   "metadata": {},
   "outputs": [
    {
     "data": {
      "text/plain": [
       "11.5"
      ]
     },
     "execution_count": 59,
     "metadata": {},
     "output_type": "execute_result"
    }
   ],
   "source": [
    "# implicit\n",
    "5 + 6.5"
   ]
  },
  {
   "cell_type": "code",
   "execution_count": 61,
   "id": "d9ab9aed-14ff-4002-a351-6ba14870055c",
   "metadata": {},
   "outputs": [
    {
     "data": {
      "text/plain": [
       "(11+6j)"
      ]
     },
     "execution_count": 61,
     "metadata": {},
     "output_type": "execute_result"
    }
   ],
   "source": [
    "5+6+6j"
   ]
  },
  {
   "cell_type": "code",
   "execution_count": 64,
   "id": "21bce9c3-5d67-47f7-9f77-01e7f5c0e223",
   "metadata": {},
   "outputs": [
    {
     "data": {
      "text/plain": [
       "4"
      ]
     },
     "execution_count": 64,
     "metadata": {},
     "output_type": "execute_result"
    }
   ],
   "source": [
    "# int\n",
    "int(4.5)\n",
    "int('4')"
   ]
  },
  {
   "cell_type": "code",
   "execution_count": 2,
   "id": "985a65a4-c29c-4dad-ab31-21fcef554393",
   "metadata": {},
   "outputs": [
    {
     "data": {
      "text/plain": [
       "4.0"
      ]
     },
     "execution_count": 2,
     "metadata": {},
     "output_type": "execute_result"
    }
   ],
   "source": [
    "float(4)"
   ]
  },
  {
   "cell_type": "code",
   "execution_count": 66,
   "id": "20141f1f-3496-460b-85e7-c8f360035262",
   "metadata": {},
   "outputs": [
    {
     "data": {
      "text/plain": [
       "'5'"
      ]
     },
     "execution_count": 66,
     "metadata": {},
     "output_type": "execute_result"
    }
   ],
   "source": [
    "str(5)"
   ]
  },
  {
   "cell_type": "code",
   "execution_count": 67,
   "id": "dc34799d-720a-4f52-8420-c7ffe5d4310d",
   "metadata": {},
   "outputs": [
    {
     "data": {
      "text/plain": [
       "True"
      ]
     },
     "execution_count": 67,
     "metadata": {},
     "output_type": "execute_result"
    }
   ],
   "source": [
    "bool(1)"
   ]
  },
  {
   "cell_type": "code",
   "execution_count": 68,
   "id": "c390a6ac-784a-444a-bbec-505d8605f6ab",
   "metadata": {},
   "outputs": [
    {
     "data": {
      "text/plain": [
       "(6+0j)"
      ]
     },
     "execution_count": 68,
     "metadata": {},
     "output_type": "execute_result"
    }
   ],
   "source": [
    "complex(6)"
   ]
  },
  {
   "cell_type": "code",
   "execution_count": 69,
   "id": "dd2059e0-a8e4-4da3-83e5-3fd27028ee62",
   "metadata": {},
   "outputs": [
    {
     "data": {
      "text/plain": [
       "['H', 'e', 'l', 'l', 'o']"
      ]
     },
     "execution_count": 69,
     "metadata": {},
     "output_type": "execute_result"
    }
   ],
   "source": [
    "list('Hello')"
   ]
  },
  {
   "cell_type": "code",
   "execution_count": 70,
   "id": "71326996-7b0f-419d-9ed3-6d920277ebe4",
   "metadata": {},
   "outputs": [],
   "source": [
    "a = 4.5"
   ]
  },
  {
   "cell_type": "code",
   "execution_count": 71,
   "id": "5a616d3c-3987-44eb-b72a-9fb2472c386b",
   "metadata": {},
   "outputs": [
    {
     "data": {
      "text/plain": [
       "4"
      ]
     },
     "execution_count": 71,
     "metadata": {},
     "output_type": "execute_result"
    }
   ],
   "source": [
    "int(a)"
   ]
  },
  {
   "cell_type": "code",
   "execution_count": 72,
   "id": "62844315-e5d5-410f-a185-357dace124d4",
   "metadata": {},
   "outputs": [
    {
     "name": "stdout",
     "output_type": "stream",
     "text": [
      "4.5\n"
     ]
    }
   ],
   "source": [
    "print(a)"
   ]
  },
  {
   "cell_type": "markdown",
   "id": "e48bee4a-9eac-49d3-bc25-895e61249554",
   "metadata": {},
   "source": [
    "# Literals\n",
    "    Literal is a raw data given to a variable. In Python there are various types of literals:-\n",
    "        1. Numeric\n",
    "        2. String\n",
    "        3. Boolean \n",
    "        4. Special\n"
   ]
  },
  {
   "cell_type": "markdown",
   "id": "c81b1f41-70d5-47ef-84d0-34c0ba8f746d",
   "metadata": {},
   "source": [
    "### Numeric Literals"
   ]
  },
  {
   "cell_type": "code",
   "execution_count": 78,
   "id": "c2286525-b757-4407-a5cb-bb9e86737245",
   "metadata": {},
   "outputs": [
    {
     "name": "stdout",
     "output_type": "stream",
     "text": [
      "10 100\n",
      "10.5 150.0 0.015\n",
      "(3+14j)\n"
     ]
    }
   ],
   "source": [
    "a = 0b1010 #Binary\n",
    "b = 100 #Decimal\n",
    "\n",
    "# float\n",
    "float_1 = 10.5\n",
    "float_2 = 1.5e2\n",
    "float_3 = 1.5e-2\n",
    "\n",
    "#complex \n",
    "x = 3+14j\n",
    "\n",
    "print(a,b)\n",
    "print(float_1, float_2, float_3)\n",
    "print(x)"
   ]
  },
  {
   "cell_type": "markdown",
   "id": "d559b9fa-88fc-4f83-ad2d-171149687e4e",
   "metadata": {},
   "source": [
    "### Special literal"
   ]
  },
  {
   "cell_type": "code",
   "execution_count": 79,
   "id": "43f41c0a-bf00-4fc1-af74-fe49f56c8d5a",
   "metadata": {},
   "outputs": [
    {
     "name": "stdout",
     "output_type": "stream",
     "text": [
      "None\n"
     ]
    }
   ],
   "source": [
    "a = None\n",
    "print(a)"
   ]
  },
  {
   "cell_type": "markdown",
   "id": "4ce83a60-d37b-47eb-a27d-6977e19b1393",
   "metadata": {},
   "source": [
    "# Operators\n",
    "    Operators are used to perform operations on variables and values.\n",
    "        Arithmetic Operator\n",
    "        Comaprison operator\n",
    "        Logical operator\n",
    "        Bitwise operator\n",
    "        Assignment operator\n",
    "        Identity operator\n",
    "        Membership operator"
   ]
  },
  {
   "cell_type": "code",
   "execution_count": 80,
   "id": "6b824aec-e3c4-4102-b33a-017bf20f2a44",
   "metadata": {},
   "outputs": [
    {
     "name": "stdout",
     "output_type": "stream",
     "text": [
      "7\n"
     ]
    }
   ],
   "source": [
    "x = 5\n",
    "y = 2\n",
    "print(x + y)"
   ]
  },
  {
   "cell_type": "code",
   "execution_count": 81,
   "id": "487d6677-a8f4-4468-97ff-73d45c9c9bae",
   "metadata": {},
   "outputs": [
    {
     "name": "stdout",
     "output_type": "stream",
     "text": [
      "3\n"
     ]
    }
   ],
   "source": [
    "print(x - y)"
   ]
  },
  {
   "cell_type": "code",
   "execution_count": 82,
   "id": "3191e8ad-1a2f-4879-b46d-d7cd01dec582",
   "metadata": {},
   "outputs": [
    {
     "name": "stdout",
     "output_type": "stream",
     "text": [
      "10\n"
     ]
    }
   ],
   "source": [
    "print(x*y)"
   ]
  },
  {
   "cell_type": "code",
   "execution_count": 83,
   "id": "24a049f2-f3a6-4c75-b110-0ca5382107ef",
   "metadata": {},
   "outputs": [
    {
     "name": "stdout",
     "output_type": "stream",
     "text": [
      "2.5\n"
     ]
    }
   ],
   "source": [
    "print(x / y)"
   ]
  },
  {
   "cell_type": "code",
   "execution_count": 84,
   "id": "0e986871-c82c-451c-bc49-fef3d532c6e8",
   "metadata": {},
   "outputs": [
    {
     "name": "stdout",
     "output_type": "stream",
     "text": [
      "2\n"
     ]
    }
   ],
   "source": [
    "print(x//y)"
   ]
  },
  {
   "cell_type": "code",
   "execution_count": 85,
   "id": "b8682f43-9a22-4197-88c8-e9fa5ae0040b",
   "metadata": {},
   "outputs": [
    {
     "name": "stdout",
     "output_type": "stream",
     "text": [
      "1\n"
     ]
    }
   ],
   "source": [
    "print(x%y)"
   ]
  },
  {
   "cell_type": "code",
   "execution_count": 86,
   "id": "8e7abd59-218b-413f-a3db-aae02e937cb3",
   "metadata": {},
   "outputs": [
    {
     "name": "stdout",
     "output_type": "stream",
     "text": [
      "25\n"
     ]
    }
   ],
   "source": [
    "print(x ** y)"
   ]
  },
  {
   "cell_type": "code",
   "execution_count": 87,
   "id": "685354e9-2ac6-46c1-bc64-7df38e8d5dc3",
   "metadata": {},
   "outputs": [
    {
     "name": "stdout",
     "output_type": "stream",
     "text": [
      "True\n"
     ]
    }
   ],
   "source": [
    "print(x >y)"
   ]
  },
  {
   "cell_type": "code",
   "execution_count": 88,
   "id": "41586efe-f162-4853-816f-f01765632c8b",
   "metadata": {},
   "outputs": [
    {
     "name": "stdout",
     "output_type": "stream",
     "text": [
      "False\n"
     ]
    }
   ],
   "source": [
    "print(x < y)"
   ]
  },
  {
   "cell_type": "code",
   "execution_count": 89,
   "id": "68e9531c-7919-46b2-952e-9341d967d5f5",
   "metadata": {},
   "outputs": [
    {
     "name": "stdout",
     "output_type": "stream",
     "text": [
      "True\n"
     ]
    }
   ],
   "source": [
    "print(x>=y)"
   ]
  },
  {
   "cell_type": "code",
   "execution_count": 90,
   "id": "524537c4-3475-4157-9901-128484f9b86c",
   "metadata": {},
   "outputs": [
    {
     "name": "stdout",
     "output_type": "stream",
     "text": [
      "True\n"
     ]
    }
   ],
   "source": [
    "print(x != y)"
   ]
  },
  {
   "cell_type": "code",
   "execution_count": 91,
   "id": "3f59535c-4ffb-4eed-ad05-e83ca46f5b8b",
   "metadata": {},
   "outputs": [
    {
     "name": "stdout",
     "output_type": "stream",
     "text": [
      "True\n"
     ]
    }
   ],
   "source": [
    "# Logical Operator\n",
    "x = True\n",
    "y = False\n",
    "print(x or y)"
   ]
  },
  {
   "cell_type": "code",
   "execution_count": 92,
   "id": "e60cdc28-b18a-48da-bafd-304495d3db1c",
   "metadata": {},
   "outputs": [
    {
     "name": "stdout",
     "output_type": "stream",
     "text": [
      "False\n"
     ]
    }
   ],
   "source": [
    "print(x and y)"
   ]
  },
  {
   "cell_type": "code",
   "execution_count": 93,
   "id": "63e0eaa2-74ec-4879-99bf-855997fd1976",
   "metadata": {},
   "outputs": [
    {
     "name": "stdout",
     "output_type": "stream",
     "text": [
      "2\n"
     ]
    }
   ],
   "source": [
    "#Bitwise\n",
    "x =2\n",
    "y = 3\n",
    "\n",
    "print(x & y)"
   ]
  },
  {
   "cell_type": "markdown",
   "id": "1da029d6",
   "metadata": {},
   "source": [
    "# Modules\n",
    "Consider a module to be the same as a code library\n",
    "\n",
    "A file containing a set of functions you want to include in your applications\n",
    "\n",
    "examples:-\n",
    "    Math\n",
    "    Random\n",
    "    os\n",
    "    time"
   ]
  },
  {
   "cell_type": "code",
   "execution_count": 1,
   "id": "c05d2c1c-8797-4d6f-a1a4-2e75e39878d7",
   "metadata": {},
   "outputs": [
    {
     "name": "stdout",
     "output_type": "stream",
     "text": [
      "\n",
      "Please wait a moment while I gather a list of all available modules...\n",
      "\n",
      "test_sqlite3: testing with version '2.6.0', sqlite_version '3.42.0'\n"
     ]
    },
    {
     "name": "stderr",
     "output_type": "stream",
     "text": [
      "c:\\Users\\Parwez Aamir\\AppData\\Local\\Programs\\Python\\Python311\\Lib\\pkgutil.py:92: UserWarning: The numpy.array_api submodule is still experimental. See NEP 47.\n",
      "  __import__(info.name)\n",
      "c:\\Users\\Parwez Aamir\\AppData\\Local\\Programs\\Python\\Python311\\Lib\\site-packages\\_distutils_hack\\__init__.py:33: UserWarning: Setuptools is replacing distutils.\n",
      "  warnings.warn(\"Setuptools is replacing distutils.\")\n"
     ]
    },
    {
     "name": "stdout",
     "output_type": "stream",
     "text": [
      "IPython             bleach              logging             sspicon\n",
      "__future__          bs4                 lxml                stack_data\n",
      "__hello__           builtins            lzma                start_pythonwin\n",
      "__phello__          bz2                 mailbox             stat\n",
      "_abc                cProfile            mailcap             statistics\n",
      "_aix_support        calendar            markupsafe          string\n",
      "_argon2_cffi_bindings certifi             marshal             stringprep\n",
      "_ast                cffi                math                struct\n",
      "_asyncio            cgi                 matplotlib_inline   subprocess\n",
      "_bisect             cgitb               mimetypes           sunau\n",
      "_blake2             charset_normalizer  mistune             symtable\n",
      "_bootsubprocess     chunk               mmap                sys\n",
      "_bz2                cmath               mmapfile            sysconfig\n",
      "_cffi_backend       cmd                 mmsystem            tabnanny\n",
      "_codecs             code                modulefinder        tarfile\n",
      "_codecs_cn          codecs              msilib              telnetlib\n",
      "_codecs_hk          codeop              msvcrt              tempfile\n",
      "_codecs_iso2022     collections         multidict           terminado\n",
      "_codecs_jp          colorama            multiprocessing     test\n",
      "_codecs_kr          colorsys            nbclient            textwrap\n",
      "_codecs_tw          comm                nbconvert           this\n",
      "_collections        commctrl            nbformat            threading\n",
      "_collections_abc    compileall          nest_asyncio        time\n",
      "_compat_pickle      concurrent          netbios             timeit\n",
      "_compression        configparser        netrc               timer\n",
      "_contextvars        contextlib          nntplib             tinycss2\n",
      "_csv                contextvars         notebook            tkinter\n",
      "_ctypes             copy                notebook_shim       token\n",
      "_ctypes_test        copyreg             nt                  tokenize\n",
      "_datetime           crypt               ntpath              tomllib\n",
      "_decimal            csv                 ntsecuritycon       tornado\n",
      "_distutils_hack     ctypes              nturl2path          trace\n",
      "_elementtree        curses              numbers             traceback\n",
      "_functools          dataclasses         numpy               tracemalloc\n",
      "_hashlib            datetime            odbc                traitlets\n",
      "_heapq              dateutil            opcode              tty\n",
      "_imp                dbi                 operator            turtle\n",
      "_io                 dbm                 optparse            turtledemo\n",
      "_json               dde                 os                  types\n",
      "_locale             debugpy             overrides           typing\n",
      "_lsprof             decimal             packaging           tzdata\n",
      "_lzma               decorator           pandas              unicodedata\n",
      "_markupbase         defusedxml          pandocfilters       unittest\n",
      "_md5                difflib             parso               uri_template\n",
      "_msi                dis                 pathlib             urllib\n",
      "_multibytecodec     discord             pdb                 urllib3\n",
      "_multiprocessing    distutils           perfmon             uu\n",
      "_opcode             doctest             pickle              uuid\n",
      "_operator           email               pickletools         venv\n",
      "_osx_support        encodings           pip                 warnings\n",
      "_overlapped         ensurepip           pipes               wave\n",
      "_pickle             enum                pkg_resources       wcwidth\n",
      "_py_abc             errno               pkgutil             weakref\n",
      "_pydecimal          executing           platform            webbrowser\n",
      "_pyio               fastjsonschema      platformdirs        webcolors\n",
      "_queue              faulthandler        plistlib            webencodings\n",
      "_random             filecmp             poplib              websocket\n",
      "_sha1               fileinput           posixpath           widgetsnbextension\n",
      "_sha256             fnmatch             pprint              win2kras\n",
      "_sha3               fqdn                profile             win32api\n",
      "_sha512             fractions           prometheus_client   win32clipboard\n",
      "_signal             frozenlist          prompt_toolkit      win32com\n",
      "_sitebuiltins       ftplib              pstats              win32con\n",
      "_socket             functools           psutil              win32console\n",
      "_sqlite3            gc                  pty                 win32cred\n",
      "_sre                genericpath         pure_eval           win32crypt\n",
      "_ssl                getopt              py_compile          win32cryptcon\n",
      "_stat               getpass             pyclbr              win32event\n",
      "_statistics         gettext             pycparser           win32evtlog\n",
      "_string             glob                pydoc               win32evtlogutil\n",
      "_strptime           graphlib            pydoc_data          win32file\n",
      "_struct             gzip                pyexpat             win32gui\n",
      "_symtable           h11                 pygments            win32gui_struct\n",
      "_testbuffer         hashlib             pythoncom           win32help\n",
      "_testcapi           heapq               pythonjsonlogger    win32inet\n",
      "_testconsole        hmac                pytz                win32inetcon\n",
      "_testimportmultiple html                pywin               win32job\n",
      "_testinternalcapi   http                pywin32_bootstrap   win32lz\n",
      "_testmultiphase     httpcore            pywin32_testutil    win32net\n",
      "_thread             httpx               pywintypes          win32netcon\n",
      "_threading_local    idlelib             qtconsole           win32pdh\n",
      "_tkinter            idna                qtpy                win32pdhquery\n",
      "_tokenize           imaplib             queue               win32pdhutil\n",
      "_tracemalloc        imghdr              quopri              win32pipe\n",
      "_typing             imp                 random              win32print\n",
      "_uuid               importlib           rasutil             win32process\n",
      "_warnings           inspect             re                  win32profile\n",
      "_weakref            io                  referencing         win32ras\n",
      "_weakrefset         ipaddress           regcheck            win32rcparser\n",
      "_win32sysloader     ipykernel           regutil             win32security\n",
      "_winapi             ipykernel_launcher  reprlib             win32service\n",
      "_winxptheme         ipython_genutils    requests            win32serviceutil\n",
      "_xxsubinterpreters  ipywidgets          rfc3339_validator   win32timezone\n",
      "_yaml               isapi               rfc3986_validator   win32trace\n",
      "_zoneinfo           isoduration         rlcompleter         win32traceutil\n",
      "abc                 itertools           rpds                win32transaction\n",
      "adodbapi            jedi                runpy               win32ts\n",
      "afxres              jinja2              sched               win32ui\n",
      "aifc                json                secrets             win32uiole\n",
      "aiohttp             json5               select              win32verstamp\n",
      "aiosignal           jsonpointer         selectors           win32wnet\n",
      "antigravity         jsonschema          send2trash          winerror\n",
      "anyio               jsonschema_specifications servicemanager      winioctlcon\n",
      "argon2              jupyter             setuptools          winnt\n",
      "argparse            jupyter_client      shelve              winperf\n",
      "array               jupyter_console     shlex               winpty\n",
      "arrow               jupyter_contrib_core shutil              winreg\n",
      "ast                 jupyter_contrib_nbextensions signal              winsound\n",
      "asttokens           jupyter_core        site                winxpgui\n",
      "async_lru           jupyter_events      six                 winxptheme\n",
      "async_timeout       jupyter_highlight_selected_word smtpd               wsgiref\n",
      "asynchat            jupyter_lsp         smtplib             xdrlib\n",
      "asyncio             jupyter_nbextensions_configurator sndhdr              xml\n",
      "asyncore            jupyter_server      sniffio             xmlrpc\n",
      "atexit              jupyter_server_terminals socket              xxsubtype\n",
      "attr                jupyterlab          socketserver        yaml\n",
      "attrs               jupyterlab_pygments soupsieve           yarl\n",
      "audioop             jupyterlab_server   sqlite3             zipapp\n",
      "babel               jupyterlab_widgets  sre_compile         zipfile\n",
      "base64              keyword             sre_constants       zipimport\n",
      "bdb                 lib2to3             sre_parse           zlib\n",
      "binascii            linecache           ssl                 zmq\n",
      "bisect              locale              sspi                zoneinfo\n",
      "\n",
      "Enter any module name to get more help.  Or, type \"modules spam\" to search\n",
      "for modules whose name or summary contain the string \"spam\".\n",
      "\n"
     ]
    }
   ],
   "source": [
    "help('modules')"
   ]
  },
  {
   "cell_type": "code",
   "execution_count": 2,
   "id": "85d89f39",
   "metadata": {},
   "outputs": [
    {
     "data": {
      "text/plain": [
       "3.141592653589793"
      ]
     },
     "execution_count": 2,
     "metadata": {},
     "output_type": "execute_result"
    }
   ],
   "source": [
    "import math\n",
    "\n",
    "math.pi"
   ]
  },
  {
   "cell_type": "code",
   "execution_count": 3,
   "id": "e310cd1a",
   "metadata": {},
   "outputs": [
    {
     "data": {
      "text/plain": [
       "<function math.factorial(n, /)>"
      ]
     },
     "execution_count": 3,
     "metadata": {},
     "output_type": "execute_result"
    }
   ],
   "source": [
    "math.factorial\n"
   ]
  },
  {
   "cell_type": "code",
   "execution_count": 4,
   "id": "360bbb7b",
   "metadata": {},
   "outputs": [
    {
     "data": {
      "text/plain": [
       "120"
      ]
     },
     "execution_count": 4,
     "metadata": {},
     "output_type": "execute_result"
    }
   ],
   "source": [
    "math.factorial(5)"
   ]
  },
  {
   "cell_type": "code",
   "execution_count": 5,
   "id": "6b4215c4",
   "metadata": {},
   "outputs": [
    {
     "data": {
      "text/plain": [
       "1.0"
      ]
     },
     "execution_count": 5,
     "metadata": {},
     "output_type": "execute_result"
    }
   ],
   "source": [
    "math.pow(1, 5\n",
    "         )"
   ]
  },
  {
   "cell_type": "code",
   "execution_count": 6,
   "id": "7a0e9e70",
   "metadata": {},
   "outputs": [
    {
     "data": {
      "text/plain": [
       "16.0"
      ]
     },
     "execution_count": 6,
     "metadata": {},
     "output_type": "execute_result"
    }
   ],
   "source": [
    "math.pow(2,4)"
   ]
  },
  {
   "cell_type": "code",
   "execution_count": 7,
   "id": "d9ea5aef",
   "metadata": {},
   "outputs": [
    {
     "data": {
      "text/plain": [
       "3"
      ]
     },
     "execution_count": 7,
     "metadata": {},
     "output_type": "execute_result"
    }
   ],
   "source": [
    "import random\n",
    "\n",
    "random.randint(1, 11)"
   ]
  },
  {
   "cell_type": "code",
   "execution_count": 25,
   "id": "9c467cad",
   "metadata": {},
   "outputs": [
    {
     "data": {
      "text/plain": [
       "1707454106.9289167"
      ]
     },
     "execution_count": 25,
     "metadata": {},
     "output_type": "execute_result"
    }
   ],
   "source": [
    "import time\n",
    "\n",
    "time.time()"
   ]
  },
  {
   "cell_type": "code",
   "execution_count": 26,
   "id": "60eb49ce",
   "metadata": {},
   "outputs": [
    {
     "data": {
      "text/plain": [
       "'Fri Feb  9 10:18:43 2024'"
      ]
     },
     "execution_count": 26,
     "metadata": {},
     "output_type": "execute_result"
    }
   ],
   "source": [
    "time.ctime()"
   ]
  },
  {
   "cell_type": "code",
   "execution_count": 27,
   "id": "c9f44f23",
   "metadata": {},
   "outputs": [
    {
     "data": {
      "text/plain": [
       "'c:\\\\Users\\\\Parwez Aamir\\\\Desktop\\\\Python'"
      ]
     },
     "execution_count": 27,
     "metadata": {},
     "output_type": "execute_result"
    }
   ],
   "source": [
    "import os\n",
    "\n",
    "os.getcwd()"
   ]
  },
  {
   "cell_type": "code",
   "execution_count": 28,
   "id": "626755fc",
   "metadata": {},
   "outputs": [
    {
     "data": {
      "text/plain": [
       "['.git',\n",
       " '.ipynb_checkpoints',\n",
       " 'Atm',\n",
       " 'BankAccount',\n",
       " 'BlackJack Game Challenge',\n",
       " 'BlackPaperScissorsGame',\n",
       " 'CreateOwnDataType(Fraction)',\n",
       " 'GuessingGameChallenge',\n",
       " 'irctc-clone',\n",
       " 'OOP',\n",
       " 'Program',\n",
       " 'python-concepts.ipynb',\n",
       " 'README.md',\n",
       " 'TicTacToeGame']"
      ]
     },
     "execution_count": 28,
     "metadata": {},
     "output_type": "execute_result"
    }
   ],
   "source": [
    "os.listdir()"
   ]
  },
  {
   "cell_type": "code",
   "execution_count": 1,
   "id": "4e5e1d1a",
   "metadata": {},
   "outputs": [
    {
     "name": "stdout",
     "output_type": "stream",
     "text": [
      "5\n"
     ]
    }
   ],
   "source": [
    "import sys\n",
    "a = 'corona'\n",
    "b= a\n",
    "c = b\n",
    "print(sys.getrefcount(a))"
   ]
  },
  {
   "cell_type": "code",
   "execution_count": 2,
   "id": "2cdb2394",
   "metadata": {},
   "outputs": [
    {
     "name": "stdout",
     "output_type": "stream",
     "text": [
      "4\n"
     ]
    }
   ],
   "source": [
    "a = \"jnkjjb\"\n",
    "b= a\n",
    "print(sys.getrefcount(a))"
   ]
  },
  {
   "cell_type": "markdown",
   "id": "ed7e6e93",
   "metadata": {},
   "source": [
    "# Function\n",
    "\n",
    "A block of code "
   ]
  },
  {
   "cell_type": "code",
   "execution_count": null,
   "id": "dfbdbb46",
   "metadata": {},
   "outputs": [],
   "source": []
  }
 ],
 "metadata": {
  "kernelspec": {
   "display_name": "Python 3 (ipykernel)",
   "language": "python",
   "name": "python3"
  },
  "language_info": {
   "codemirror_mode": {
    "name": "ipython",
    "version": 3
   },
   "file_extension": ".py",
   "mimetype": "text/x-python",
   "name": "python",
   "nbconvert_exporter": "python",
   "pygments_lexer": "ipython3",
   "version": "3.11.5"
  }
 },
 "nbformat": 4,
 "nbformat_minor": 5
}
